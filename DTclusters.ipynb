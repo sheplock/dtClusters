{
 "cells": [
  {
   "cell_type": "markdown",
   "id": "3dadaf87",
   "metadata": {},
   "source": [
    "## Question: How can we search for long-lived particle decays in the muon system?"
   ]
  },
  {
   "cell_type": "markdown",
   "id": "12365f7e",
   "metadata": {},
   "source": [
    "### Signal event signature"
   ]
  },
  {
   "cell_type": "markdown",
   "id": "a64b3f09",
   "metadata": {},
   "source": [
    "The event signature for neutral long-lived particles is missing momentum aligned with a cluster of drift tube (DT) hits in the muon system, opposite to a high momentum jet. Example event display below (blue dots are DT hits, red arrow is the missing momentum, yellow cones are jets):"
   ]
  },
  {
   "cell_type": "markdown",
   "id": "cb2f3393",
   "metadata": {},
   "source": [
    "<img src=\"img/THeventDisplay.png\" alt=\"img/THeventDisplay\" width=\"500\"/>"
   ]
  },
  {
   "cell_type": "markdown",
   "id": "1431d264",
   "metadata": {},
   "source": [
    "### DT clusters\n",
    "\n",
    "Given DT hits in the muon system, clusters are formed to distinguish real particle decays from detector noise. Density-based spatial clustering of applications with noise (DBSCAN) algorithm is used to do the clustering.\n",
    "\n",
    "DBSCAN algorithm takes all points and two parameters -- $N$, the minimum cluster size, and $\\epsilon$, the clustering distance parameter -- and classifies every point as one of the following:\n",
    "\n",
    "- Core point: at least $N$ points within the $\\epsilon$ of the point\n",
    "- Directly reachable point: not a core point but within $\\epsilon$ of a core point\n",
    "- Reachable point: there is a path from a core point through directly reachable points within $\\epsilon$ ending at the point\n",
    "- Noise: point does not satisfy any of the above categories\n",
    "\n",
    "Starting with a core point, a cluster is formed by clustering the core point with all points reachable from it."
   ]
  },
  {
   "cell_type": "markdown",
   "id": "f92ab790",
   "metadata": {},
   "source": [
    "All the DT hits in an event are passed through the DBSCAN algorithm using their $(\\eta, \\phi)$ detector positions (implemented in C++ using [`DBSCAN.h`](https://github.com/sheplock/dtClusters/blob/main/DBSCAN.h) and [`DBSCAN.cc`](https://github.com/sheplock/dtClusters/blob/main/DBSCAN.cc)), and any successfully clustered group of hits is saved.\n",
    "\n",
    "Example implementation using $N = 50$ and $\\epsilon = 0.2$, where `DBSCAN::run()` and `DBSCAN::result()` are defined in `DBSCAN.cc`.\n",
    "```C++\n",
    "// Do DBSCAN Clustering\n",
    "int min_point = 50;  // minimum number of hits to call it a cluster\n",
    "float epsilon = 0.2; // cluster radius parameter\n",
    "DBSCAN ds(min_point, epsilon, points); // points is a vector of Point types representing DT hits\n",
    "ds.run();\n",
    "ds.result();\n",
    "```"
   ]
  },
  {
   "cell_type": "markdown",
   "id": "3a0e2e2a",
   "metadata": {},
   "source": [
    "Key functions for DBSCAN algorithm defined below."
   ]
  },
  {
   "cell_type": "markdown",
   "id": "50010f59",
   "metadata": {},
   "source": [
    "```C++\n",
    "// function called to run the DBSCAN algorithm\n",
    "int DBSCAN::run()\n",
    "{\n",
    "    int clusterID = 1; // index used to classify which cluster each point belongs to\n",
    "    vector<Point>::iterator iter; //iterator for DT hits\n",
    "    for(iter = m_points.begin(); iter != m_points.end(); ++iter)\n",
    "    {\n",
    "        // check point hasn't been classified yet in another iteration of algorithm\n",
    "        if ( iter->clusterID == UNCLASSIFIED ) \n",
    "        {\n",
    "            // expandCluster() checks to see if point is core point, if so forms a cluster\n",
    "            // all points in the cluster are labeled with clusterID\n",
    "            // expandCluster() returns FAILURE if point can't seed new cluster\n",
    "            // if point isn't failure (does seed a new cluster) then increase clusterID to start new cluster\n",
    "            if ( expandCluster(*iter, clusterID) != FAILURE )\n",
    "            {\n",
    "                clusterID += 1;\n",
    "            }\n",
    "        }\n",
    "    }\n",
    "    // total number of clusters is clusterID-1 (initialized to 1 before any clusters made)\n",
    "    nClusters = clusterID-1;\n",
    "    return (clusterID-1);\n",
    "}\n",
    "\n",
    "int DBSCAN::expandCluster(Point point, int clusterID)\n",
    "{\n",
    "    //calculate all neighbors within distance parameter, including point itself\n",
    "    vector<int> clusterSeeds = calculateCluster(point);\n",
    "\n",
    "    // if fewer neighboring points than min cluster size, point is labeled as noise\n",
    "    if ( clusterSeeds.size() < m_minPoints )\n",
    "    {\n",
    "        point.clusterID = NOISE;\n",
    "        return FAILURE;\n",
    "    }\n",
    "    else // point is a core point\n",
    "    {\n",
    "        int index = 0, indexCorePoint = 0;\n",
    "        vector<int>::iterator iterSeeds;\n",
    "        // loop through neighbors of core points\n",
    "        for( iterSeeds = clusterSeeds.begin(); iterSeeds != clusterSeeds.end(); ++iterSeeds)\n",
    "        {\n",
    "            // setting all the directly reachable points to the same clusterID\n",
    "            m_points.at(*iterSeeds).clusterID = clusterID;\n",
    "            // get the index of the core point itself\n",
    "            if (m_points.at(*iterSeeds).eta == point.eta && m_points.at(*iterSeeds).phi == point.phi )\n",
    "            {\n",
    "                indexCorePoint = index;\n",
    "            }\n",
    "            // increment index for each time iterating through the loop\n",
    "            ++index;\n",
    "        }\n",
    "        // remove the core point\n",
    "        clusterSeeds.erase(clusterSeeds.begin()+indexCorePoint);\n",
    "        // now clusterSeeds only contains directly reachable points, not core point itself\n",
    "        // loop through the cluster again\n",
    "        // if one of the directly reachable points is actually a core point, all points in the neighborhood of that point will be added to cluster (reachable points)\n",
    "        for( vector<int>::size_type i = 0, n = clusterSeeds.size(); i < n; ++i )\n",
    "        {\n",
    "            // check if the neighbors themselves are core points\n",
    "            vector<int> clusterNeighors = calculateCluster(m_points.at(clusterSeeds[i]));\n",
    "            if ( clusterNeighors.size() >= m_minPoints ) // this point is a core point too\n",
    "            {\n",
    "                vector<int>::iterator iterNeighors;\n",
    "                // iterate through the directly reachable points of the new core point\n",
    "                for ( iterNeighors = clusterNeighors.begin(); iterNeighors != clusterNeighors.end(); ++iterNeighors )\n",
    "                {\n",
    "                    // new points that don't already belong to a cluster\n",
    "                    if ( m_points.at(*iterNeighors).clusterID == UNCLASSIFIED || m_points.at(*iterNeighors).clusterID == NOISE )\n",
    "                    {\n",
    "                        // label points as belonging to this cluster\n",
    "                        m_points.at(*iterNeighors).clusterID = clusterID;\n",
    "                        \n",
    "                        // if point hasn't been classified yet, add it to clusterSeeds\n",
    "                        // then it will be checked for being a core point too\n",
    "                        // (if noise, already know point isn't a core point from a previous iteration)\n",
    "                        // if point is added, change n so the loop through all clusterSeeds contains new point\n",
    "                        if ( m_points.at(*iterNeighors).clusterID == UNCLASSIFIED )\n",
    "                        {\n",
    "                            clusterSeeds.push_back(*iterNeighors);\n",
    "                            n = clusterSeeds.size();\n",
    "                        }\n",
    "                        \n",
    "                    }\n",
    "                }\n",
    "            }\n",
    "        }\n",
    "\n",
    "        return SUCCESS;\n",
    "    }\n",
    "}\n",
    "\n",
    "// get index of all points in epsilon neighborhood of point\n",
    "vector<int> DBSCAN::calculateCluster(Point point)\n",
    "{\n",
    "    int index = 0;\n",
    "    vector<Point>::iterator iter;\n",
    "    vector<int> clusterIndex;\n",
    "    Point minimum;\n",
    "    // iterate through all points, store index of points within epsilon\n",
    "    for( iter = m_points.begin(); iter != m_points.end(); ++iter)\n",
    "    {\n",
    "        if ( calculateDistance(point, *iter) <= m_epsilon )\n",
    "        {\n",
    "            clusterIndex.push_back(index);\n",
    "        }\n",
    "        // index incremented for each loop of iterator\n",
    "        index++;\n",
    "    }\n",
    "    return clusterIndex;\n",
    "}\n",
    "\n",
    "// distance used is the eta/phi 2D distance\n",
    "inline double DBSCAN::calculateDistance( Point pointCore, Point pointTarget )\n",
    "{\n",
    "    return sqrt(pow(pointCore.eta - pointTarget.eta,2)+pow(deltaPhi(pointCore.phi, pointTarget.phi),2));\n",
    "\n",
    "}\n",
    "```"
   ]
  },
  {
   "cell_type": "markdown",
   "id": "4e892734",
   "metadata": {},
   "source": [
    "True noise in the detector is very unlikely to cause 50 hits, so noise will not typically be clustered. Signal decays cause clusters with high efficiency. From simulated signal events, the efficiency can be measured as a function of the particle decay location:"
   ]
  },
  {
   "cell_type": "markdown",
   "id": "1ee9fdf8",
   "metadata": {},
   "source": [
    "<img src=\"img/clusterReco_noVetoRadius_new.png\" alt=\"img/clusterReco_noVetoRadius_new\" width=\"500\"/>"
   ]
  },
  {
   "cell_type": "markdown",
   "id": "ccb56b15",
   "metadata": {},
   "source": [
    "For hits that are clustered, signal decays tend to cause larger clusters than backgrounds. Even if noise is clustered, it tends to be just enough points to form a cluster of 50 hits, while the signal decays can cause many more hits:"
   ]
  },
  {
   "cell_type": "markdown",
   "id": "cc1d2d7a",
   "metadata": {},
   "source": [
    "<img src=\"img/clusterSize.png\" alt=\"img/clusterSize\" width=\"500\"/>"
   ]
  },
  {
   "cell_type": "markdown",
   "id": "08d66e1a",
   "metadata": {},
   "source": [
    "### Punch-through prediction"
   ]
  },
  {
   "cell_type": "markdown",
   "id": "57f65d9f",
   "metadata": {},
   "source": [
    "A major source of background is jets in the inner parts of the detector that \"punch-through\" into the muon system and cause DT clusters. There are two handles to control this background: rejecting clusters matched to jets and rejecting clusters matched to 2+ MB1 hits (inner layer of DTs used for veto only, not for clustering).\n",
    "\n",
    "These requirements remove vast majority of background clusters, however they can fail. The jet matching fails if the true jet energy is below 10 GeV (reconstruction does not work for this low energy). The MB1 veto fails due to gaps in the detector and detector inefficiency.\n",
    "\n",
    "Therefore, clusters from jets below 10 GeV and with < 2 matched MB1 hits are expected to be signal region background. The 2D plane defined by these variables is shown below, where A2 is the signal region. CR2 clusters are rejected by the jet veto, A1 clusters are rejected by the MB1 veto, and CR1 clusters are rejected by both."
   ]
  },
  {
   "cell_type": "markdown",
   "id": "e3364595",
   "metadata": {},
   "source": [
    "<img src=\"img/punchThroughABCDplane.png\" alt=\"img/punchThroughABCDplane\" width=\"500\"/>"
   ]
  },
  {
   "cell_type": "markdown",
   "id": "97a481c4",
   "metadata": {},
   "source": [
    "Since we cannot directly measure the background in the signal region (this must remain \"blinded\" until the final step of the analysis) we need a way to predict the background so that we know how many events to expect if there's no new signals.\n",
    "\n",
    "To predict this punch-through background, the ratio of CR2/CR1 is measured as a function of jet energy. This allows us to construct a model so that we can predict the ratio of A2/A1. Then we can measure the background in A1 and calculate the expected background in A2.\n",
    "\n",
    "The best fit for the CR2/(CR1+CR2) ratio is an exponential function plus a constant:"
   ]
  },
  {
   "cell_type": "markdown",
   "id": "c0c4715a",
   "metadata": {},
   "source": [
    "<img src=\"img/MB1VetoEfficiency_jetPt_MB2_expPlusConst_uncBand.png\" alt=\"img/MB1VetoEfficiency_jetPt_MB2_expPlusConst_uncBand\" width=\"500\"/>"
   ]
  },
  {
   "cell_type": "markdown",
   "id": "015434c8",
   "metadata": {},
   "source": [
    "The full fitting/prediction is implemented in [`doPredictions.py`](https://github.com/sheplock/dtClusters/blob/main/doPredictions.py).\n",
    "\n",
    "This fit allows us to extrapolate below 10 GeV, to get an expected ratio of A2/A1. Since the A1 yield is measurable, we can get an expected background contribution.\n",
    "\n",
    "This method was validated in multiple validation regions to confirm that this approach gave a prediction that was consistent with the observed event yields in unblinded regions."
   ]
  },
  {
   "cell_type": "markdown",
   "id": "0357cc97",
   "metadata": {},
   "source": [
    "Relevant output from `doPredictions.py`:\n",
    "(0.225, 0.02, 6.5, 2.1)\n",
    "\n",
    "Veto efficiency = 0.225 $\\pm$ 0.02\n",
    "\n",
    "Background prediction = 6.5 $\\pm$ 2.1"
   ]
  },
  {
   "cell_type": "markdown",
   "id": "bd91e51b",
   "metadata": {},
   "source": [
    "### Result:\n",
    "Total expected background (including punch-through and other backgrounds) = 9.5 $\\pm$ 1.9 events\n",
    "\n",
    "Total signal region yield = 9 events"
   ]
  },
  {
   "cell_type": "markdown",
   "id": "21590e74",
   "metadata": {},
   "source": [
    "### Extra: Uncorrelated background prediction\n",
    "\n",
    "To know if we've discovered a new particle, we must have a precise prediction for the expected background in the signal region. Since the signal region must remain \"blinded\" until the last step of the analysis, we need a method(s) to predict the background using measurements in other (\"control\") regions.\n",
    "\n",
    "Noise background can be predicted using a \"matrix\" or \"ABCD\" method. For noise background, the two variables defining the plane drawn below are independent of each other:"
   ]
  },
  {
   "cell_type": "markdown",
   "id": "e870a3e2",
   "metadata": {},
   "source": [
    "<img src=\"img/ABCDplane.png\" alt=\"img/ABCDplane\" width=\"500\"/>"
   ]
  },
  {
   "cell_type": "markdown",
   "id": "6a67f61c",
   "metadata": {},
   "source": [
    "Since they are independent, then the ratio of event yields is expected to be equal: $N_D / N_C = N_A / N_B$, or equivalently, $N_B / N_C = N_A / N_D$. This allows us to determine the background in the signal region (A) by measuring the yields in the other three regions: $N_A = N_B \\times N_D / N_C$."
   ]
  },
  {
   "cell_type": "markdown",
   "id": "7326a789",
   "metadata": {},
   "source": [
    "The only issue with the above method is that there is an additional background, from punch-through jets, where these varibles are not independent, so the prediction method is not valid for these events. This background is due to jets, which should be entirely contained in inner sections of the detector, escaping through into the outer muon system and causing DT hits. Just like signal decays, these clusters disproportionately populate region A, so the matrix method does not properly predict them.\n",
    "\n",
    "The ABCD plane showing the population of these types of events is shown below:"
   ]
  },
  {
   "cell_type": "markdown",
   "id": "29568636",
   "metadata": {},
   "source": [
    "<img src=\"img/ABCDevents_MB1CR.png\" alt=\"img/ABCDevents_MB1CR\" width=\"500\"/>"
   ]
  }
 ],
 "metadata": {
  "kernelspec": {
   "display_name": "Python 3 (ipykernel)",
   "language": "python",
   "name": "python3"
  },
  "language_info": {
   "codemirror_mode": {
    "name": "ipython",
    "version": 3
   },
   "file_extension": ".py",
   "mimetype": "text/x-python",
   "name": "python",
   "nbconvert_exporter": "python",
   "pygments_lexer": "ipython3",
   "version": "3.9.12"
  }
 },
 "nbformat": 4,
 "nbformat_minor": 5
}
